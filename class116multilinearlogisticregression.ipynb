{
  "nbformat": 4,
  "nbformat_minor": 0,
  "metadata": {
    "colab": {
      "provenance": [],
      "authorship_tag": "ABX9TyOdW5OsblEL4QzTU9f+CyTL",
      "include_colab_link": true
    },
    "kernelspec": {
      "name": "python3",
      "display_name": "Python 3"
    },
    "language_info": {
      "name": "python"
    }
  },
  "cells": [
    {
      "cell_type": "markdown",
      "metadata": {
        "id": "view-in-github",
        "colab_type": "text"
      },
      "source": [
        "<a href=\"https://colab.research.google.com/github/KavyaChoudhary2008/class116/blob/main/class116multilinearlogisticregression.ipynb\" target=\"_parent\"><img src=\"https://colab.research.google.com/assets/colab-badge.svg\" alt=\"Open In Colab\"/></a>"
      ]
    },
    {
      "cell_type": "code",
      "execution_count": 7,
      "metadata": {
        "colab": {
          "base_uri": "https://localhost:8080/",
          "height": 542
        },
        "id": "x_6ZP-Um1kAT",
        "outputId": "e0633b47-fa22-4cac-84d7-f7539c156a4d"
      },
      "outputs": [
        {
          "output_type": "display_data",
          "data": {
            "text/html": [
              "<html>\n",
              "<head><meta charset=\"utf-8\" /></head>\n",
              "<body>\n",
              "    <div>            <script src=\"https://cdnjs.cloudflare.com/ajax/libs/mathjax/2.7.5/MathJax.js?config=TeX-AMS-MML_SVG\"></script><script type=\"text/javascript\">if (window.MathJax && window.MathJax.Hub && window.MathJax.Hub.Config) {window.MathJax.Hub.Config({SVG: {font: \"STIX-Web\"}});}</script>                <script type=\"text/javascript\">window.PlotlyConfig = {MathJaxConfig: 'local'};</script>\n",
              "        <script src=\"https://cdn.plot.ly/plotly-2.18.2.min.js\"></script>                <div id=\"951ea372-cb59-4df5-b8f3-951584e81d4e\" class=\"plotly-graph-div\" style=\"height:525px; width:100%;\"></div>            <script type=\"text/javascript\">                                    window.PLOTLYENV=window.PLOTLYENV || {};                                    if (document.getElementById(\"951ea372-cb59-4df5-b8f3-951584e81d4e\")) {                    Plotly.newPlot(                        \"951ea372-cb59-4df5-b8f3-951584e81d4e\",                        [{\"hovertemplate\":\"x=%{x}<br>y=%{y}<extra></extra>\",\"legendgroup\":\"\",\"marker\":{\"color\":\"#636efa\",\"symbol\":\"circle\"},\"mode\":\"markers\",\"name\":\"\",\"orientation\":\"v\",\"showlegend\":false,\"x\":[19000,20000,43000,57000,76000,58000,84000,150000,33000,65000,80000,52000,86000,18000,82000,80000,25000,26000,28000,29000,22000,49000,41000,22000,23000,20000,28000,30000,43000,18000,74000,137000,16000,44000,90000,27000,28000,49000,72000,31000,17000,51000,108000,15000,84000,20000,79000,54000,135000,89000,32000,44000,83000,23000,58000,55000,48000,79000,18000,117000,20000,87000,66000,120000,83000,58000,19000,82000,63000,68000,80000,27000,23000,113000,18000,112000,52000,27000,87000,17000,80000,42000,49000,88000,62000,118000,55000,85000,81000,50000,81000,116000,15000,28000,83000,44000,25000,123000,73000,37000,88000,59000,86000,149000,21000,72000,35000,89000,86000,80000,71000,71000,61000,55000,80000,57000,75000,52000,59000,59000,75000,72000,75000,53000,51000,61000,65000,32000,17000,84000,58000,31000,87000,68000,55000,63000,82000,107000,59000,25000,85000,68000,59000,89000,25000,89000,96000,30000,61000,74000,15000,45000,76000,50000,47000,15000,59000,75000,30000,135000,100000,90000,33000,38000,69000,86000,55000,71000,148000,47000,88000,115000,118000,43000,72000,28000,47000,22000,23000,34000,16000,71000,117000,43000,60000,66000,82000,41000,72000,32000,84000,26000,43000,70000,89000,43000,79000,36000,80000,22000,39000,74000,134000,71000,101000,47000,130000,114000,142000,22000,96000,150000,42000,58000,43000,108000,65000,78000,96000,143000,80000,91000,144000,102000,60000,53000,126000,133000,72000,80000,147000,42000,107000,86000,112000,79000,57000,80000,82000,143000,149000,59000,88000,104000,72000,146000,50000,122000,52000,97000,39000,52000,134000,146000,44000,90000,72000,57000,95000,131000,77000,144000,125000,72000,90000,108000,75000,74000,144000,61000,133000,76000,42000,106000,26000,74000,71000,88000,38000,36000,88000,61000,70000,21000,141000,93000,62000,138000,79000,78000,134000,89000,39000,77000,57000,63000,73000,112000,79000,117000,38000,74000,137000,79000,60000,54000,134000,113000,125000,50000,70000,96000,50000,141000,79000,75000,104000,55000,32000,60000,138000,82000,52000,30000,131000,60000,72000,75000,118000,107000,51000,119000,65000,65000,60000,54000,144000,79000,55000,122000,104000,75000,65000,51000,105000,63000,72000,108000,77000,61000,113000,75000,90000,57000,99000,34000,70000,72000,71000,54000,129000,34000,50000,79000,104000,29000,47000,88000,71000,26000,46000,83000,73000,130000,80000,32000,74000,53000,87000,23000,64000,33000,139000,28000,33000,60000,39000,71000,34000,35000,33000,23000,45000,42000,59000,41000,23000,20000,33000,36000],\"xaxis\":\"x\",\"y\":[0,0,0,0,0,0,0,1,0,0,0,0,0,0,0,0,1,1,1,1,1,1,1,1,1,1,1,1,0,0,0,1,0,0,0,0,0,0,0,0,0,0,0,0,0,0,0,0,1,0,0,0,0,0,0,0,0,0,0,0,0,0,0,1,0,0,0,0,0,0,0,0,0,0,0,1,0,0,0,0,0,0,0,0,0,1,0,0,0,0,0,0,0,0,0,0,0,1,0,0,0,0,0,1,0,0,0,0,0,0,0,0,0,0,0,0,0,0,0,0,0,0,0,0,0,0,0,0,0,0,0,0,0,0,0,0,0,1,0,0,0,0,0,0,0,0,1,0,0,0,0,0,0,0,0,0,0,0,0,1,1,0,0,0,0,0,0,0,1,0,0,0,0,0,0,0,0,0,0,0,0,0,1,0,0,0,0,0,0,0,0,0,0,0,0,0,0,0,0,0,0,0,1,0,1,0,1,0,1,0,1,1,0,0,0,1,0,0,0,1,0,1,1,1,0,0,1,1,0,1,1,0,1,1,0,1,0,0,0,1,1,0,1,1,0,1,0,1,0,1,0,0,1,1,0,1,0,0,1,1,0,1,1,0,1,1,0,0,1,0,0,1,1,1,1,1,0,1,1,1,1,0,1,1,0,1,0,1,0,1,1,1,1,0,0,0,1,1,0,1,1,1,1,1,0,0,0,1,1,0,0,1,0,1,0,1,1,0,1,0,1,1,0,1,1,0,0,0,1,1,0,1,0,0,1,0,1,0,0,1,1,0,0,1,1,0,1,1,0,0,1,0,1,0,1,1,1,0,1,0,1,1,1,0,1,1,1,1,0,1,1,1,0,1,0,1,0,0,1,1,0,1,1,1,1,1,1,0,1,1,1,1,1,1,0,1,1,1,0,1],\"yaxis\":\"y\",\"type\":\"scatter\"}],                        {\"template\":{\"data\":{\"histogram2dcontour\":[{\"type\":\"histogram2dcontour\",\"colorbar\":{\"outlinewidth\":0,\"ticks\":\"\"},\"colorscale\":[[0.0,\"#0d0887\"],[0.1111111111111111,\"#46039f\"],[0.2222222222222222,\"#7201a8\"],[0.3333333333333333,\"#9c179e\"],[0.4444444444444444,\"#bd3786\"],[0.5555555555555556,\"#d8576b\"],[0.6666666666666666,\"#ed7953\"],[0.7777777777777778,\"#fb9f3a\"],[0.8888888888888888,\"#fdca26\"],[1.0,\"#f0f921\"]]}],\"choropleth\":[{\"type\":\"choropleth\",\"colorbar\":{\"outlinewidth\":0,\"ticks\":\"\"}}],\"histogram2d\":[{\"type\":\"histogram2d\",\"colorbar\":{\"outlinewidth\":0,\"ticks\":\"\"},\"colorscale\":[[0.0,\"#0d0887\"],[0.1111111111111111,\"#46039f\"],[0.2222222222222222,\"#7201a8\"],[0.3333333333333333,\"#9c179e\"],[0.4444444444444444,\"#bd3786\"],[0.5555555555555556,\"#d8576b\"],[0.6666666666666666,\"#ed7953\"],[0.7777777777777778,\"#fb9f3a\"],[0.8888888888888888,\"#fdca26\"],[1.0,\"#f0f921\"]]}],\"heatmap\":[{\"type\":\"heatmap\",\"colorbar\":{\"outlinewidth\":0,\"ticks\":\"\"},\"colorscale\":[[0.0,\"#0d0887\"],[0.1111111111111111,\"#46039f\"],[0.2222222222222222,\"#7201a8\"],[0.3333333333333333,\"#9c179e\"],[0.4444444444444444,\"#bd3786\"],[0.5555555555555556,\"#d8576b\"],[0.6666666666666666,\"#ed7953\"],[0.7777777777777778,\"#fb9f3a\"],[0.8888888888888888,\"#fdca26\"],[1.0,\"#f0f921\"]]}],\"heatmapgl\":[{\"type\":\"heatmapgl\",\"colorbar\":{\"outlinewidth\":0,\"ticks\":\"\"},\"colorscale\":[[0.0,\"#0d0887\"],[0.1111111111111111,\"#46039f\"],[0.2222222222222222,\"#7201a8\"],[0.3333333333333333,\"#9c179e\"],[0.4444444444444444,\"#bd3786\"],[0.5555555555555556,\"#d8576b\"],[0.6666666666666666,\"#ed7953\"],[0.7777777777777778,\"#fb9f3a\"],[0.8888888888888888,\"#fdca26\"],[1.0,\"#f0f921\"]]}],\"contourcarpet\":[{\"type\":\"contourcarpet\",\"colorbar\":{\"outlinewidth\":0,\"ticks\":\"\"}}],\"contour\":[{\"type\":\"contour\",\"colorbar\":{\"outlinewidth\":0,\"ticks\":\"\"},\"colorscale\":[[0.0,\"#0d0887\"],[0.1111111111111111,\"#46039f\"],[0.2222222222222222,\"#7201a8\"],[0.3333333333333333,\"#9c179e\"],[0.4444444444444444,\"#bd3786\"],[0.5555555555555556,\"#d8576b\"],[0.6666666666666666,\"#ed7953\"],[0.7777777777777778,\"#fb9f3a\"],[0.8888888888888888,\"#fdca26\"],[1.0,\"#f0f921\"]]}],\"surface\":[{\"type\":\"surface\",\"colorbar\":{\"outlinewidth\":0,\"ticks\":\"\"},\"colorscale\":[[0.0,\"#0d0887\"],[0.1111111111111111,\"#46039f\"],[0.2222222222222222,\"#7201a8\"],[0.3333333333333333,\"#9c179e\"],[0.4444444444444444,\"#bd3786\"],[0.5555555555555556,\"#d8576b\"],[0.6666666666666666,\"#ed7953\"],[0.7777777777777778,\"#fb9f3a\"],[0.8888888888888888,\"#fdca26\"],[1.0,\"#f0f921\"]]}],\"mesh3d\":[{\"type\":\"mesh3d\",\"colorbar\":{\"outlinewidth\":0,\"ticks\":\"\"}}],\"scatter\":[{\"fillpattern\":{\"fillmode\":\"overlay\",\"size\":10,\"solidity\":0.2},\"type\":\"scatter\"}],\"parcoords\":[{\"type\":\"parcoords\",\"line\":{\"colorbar\":{\"outlinewidth\":0,\"ticks\":\"\"}}}],\"scatterpolargl\":[{\"type\":\"scatterpolargl\",\"marker\":{\"colorbar\":{\"outlinewidth\":0,\"ticks\":\"\"}}}],\"bar\":[{\"error_x\":{\"color\":\"#2a3f5f\"},\"error_y\":{\"color\":\"#2a3f5f\"},\"marker\":{\"line\":{\"color\":\"#E5ECF6\",\"width\":0.5},\"pattern\":{\"fillmode\":\"overlay\",\"size\":10,\"solidity\":0.2}},\"type\":\"bar\"}],\"scattergeo\":[{\"type\":\"scattergeo\",\"marker\":{\"colorbar\":{\"outlinewidth\":0,\"ticks\":\"\"}}}],\"scatterpolar\":[{\"type\":\"scatterpolar\",\"marker\":{\"colorbar\":{\"outlinewidth\":0,\"ticks\":\"\"}}}],\"histogram\":[{\"marker\":{\"pattern\":{\"fillmode\":\"overlay\",\"size\":10,\"solidity\":0.2}},\"type\":\"histogram\"}],\"scattergl\":[{\"type\":\"scattergl\",\"marker\":{\"colorbar\":{\"outlinewidth\":0,\"ticks\":\"\"}}}],\"scatter3d\":[{\"type\":\"scatter3d\",\"line\":{\"colorbar\":{\"outlinewidth\":0,\"ticks\":\"\"}},\"marker\":{\"colorbar\":{\"outlinewidth\":0,\"ticks\":\"\"}}}],\"scattermapbox\":[{\"type\":\"scattermapbox\",\"marker\":{\"colorbar\":{\"outlinewidth\":0,\"ticks\":\"\"}}}],\"scatterternary\":[{\"type\":\"scatterternary\",\"marker\":{\"colorbar\":{\"outlinewidth\":0,\"ticks\":\"\"}}}],\"scattercarpet\":[{\"type\":\"scattercarpet\",\"marker\":{\"colorbar\":{\"outlinewidth\":0,\"ticks\":\"\"}}}],\"carpet\":[{\"aaxis\":{\"endlinecolor\":\"#2a3f5f\",\"gridcolor\":\"white\",\"linecolor\":\"white\",\"minorgridcolor\":\"white\",\"startlinecolor\":\"#2a3f5f\"},\"baxis\":{\"endlinecolor\":\"#2a3f5f\",\"gridcolor\":\"white\",\"linecolor\":\"white\",\"minorgridcolor\":\"white\",\"startlinecolor\":\"#2a3f5f\"},\"type\":\"carpet\"}],\"table\":[{\"cells\":{\"fill\":{\"color\":\"#EBF0F8\"},\"line\":{\"color\":\"white\"}},\"header\":{\"fill\":{\"color\":\"#C8D4E3\"},\"line\":{\"color\":\"white\"}},\"type\":\"table\"}],\"barpolar\":[{\"marker\":{\"line\":{\"color\":\"#E5ECF6\",\"width\":0.5},\"pattern\":{\"fillmode\":\"overlay\",\"size\":10,\"solidity\":0.2}},\"type\":\"barpolar\"}],\"pie\":[{\"automargin\":true,\"type\":\"pie\"}]},\"layout\":{\"autotypenumbers\":\"strict\",\"colorway\":[\"#636efa\",\"#EF553B\",\"#00cc96\",\"#ab63fa\",\"#FFA15A\",\"#19d3f3\",\"#FF6692\",\"#B6E880\",\"#FF97FF\",\"#FECB52\"],\"font\":{\"color\":\"#2a3f5f\"},\"hovermode\":\"closest\",\"hoverlabel\":{\"align\":\"left\"},\"paper_bgcolor\":\"white\",\"plot_bgcolor\":\"#E5ECF6\",\"polar\":{\"bgcolor\":\"#E5ECF6\",\"angularaxis\":{\"gridcolor\":\"white\",\"linecolor\":\"white\",\"ticks\":\"\"},\"radialaxis\":{\"gridcolor\":\"white\",\"linecolor\":\"white\",\"ticks\":\"\"}},\"ternary\":{\"bgcolor\":\"#E5ECF6\",\"aaxis\":{\"gridcolor\":\"white\",\"linecolor\":\"white\",\"ticks\":\"\"},\"baxis\":{\"gridcolor\":\"white\",\"linecolor\":\"white\",\"ticks\":\"\"},\"caxis\":{\"gridcolor\":\"white\",\"linecolor\":\"white\",\"ticks\":\"\"}},\"coloraxis\":{\"colorbar\":{\"outlinewidth\":0,\"ticks\":\"\"}},\"colorscale\":{\"sequential\":[[0.0,\"#0d0887\"],[0.1111111111111111,\"#46039f\"],[0.2222222222222222,\"#7201a8\"],[0.3333333333333333,\"#9c179e\"],[0.4444444444444444,\"#bd3786\"],[0.5555555555555556,\"#d8576b\"],[0.6666666666666666,\"#ed7953\"],[0.7777777777777778,\"#fb9f3a\"],[0.8888888888888888,\"#fdca26\"],[1.0,\"#f0f921\"]],\"sequentialminus\":[[0.0,\"#0d0887\"],[0.1111111111111111,\"#46039f\"],[0.2222222222222222,\"#7201a8\"],[0.3333333333333333,\"#9c179e\"],[0.4444444444444444,\"#bd3786\"],[0.5555555555555556,\"#d8576b\"],[0.6666666666666666,\"#ed7953\"],[0.7777777777777778,\"#fb9f3a\"],[0.8888888888888888,\"#fdca26\"],[1.0,\"#f0f921\"]],\"diverging\":[[0,\"#8e0152\"],[0.1,\"#c51b7d\"],[0.2,\"#de77ae\"],[0.3,\"#f1b6da\"],[0.4,\"#fde0ef\"],[0.5,\"#f7f7f7\"],[0.6,\"#e6f5d0\"],[0.7,\"#b8e186\"],[0.8,\"#7fbc41\"],[0.9,\"#4d9221\"],[1,\"#276419\"]]},\"xaxis\":{\"gridcolor\":\"white\",\"linecolor\":\"white\",\"ticks\":\"\",\"title\":{\"standoff\":15},\"zerolinecolor\":\"white\",\"automargin\":true,\"zerolinewidth\":2},\"yaxis\":{\"gridcolor\":\"white\",\"linecolor\":\"white\",\"ticks\":\"\",\"title\":{\"standoff\":15},\"zerolinecolor\":\"white\",\"automargin\":true,\"zerolinewidth\":2},\"scene\":{\"xaxis\":{\"backgroundcolor\":\"#E5ECF6\",\"gridcolor\":\"white\",\"linecolor\":\"white\",\"showbackground\":true,\"ticks\":\"\",\"zerolinecolor\":\"white\",\"gridwidth\":2},\"yaxis\":{\"backgroundcolor\":\"#E5ECF6\",\"gridcolor\":\"white\",\"linecolor\":\"white\",\"showbackground\":true,\"ticks\":\"\",\"zerolinecolor\":\"white\",\"gridwidth\":2},\"zaxis\":{\"backgroundcolor\":\"#E5ECF6\",\"gridcolor\":\"white\",\"linecolor\":\"white\",\"showbackground\":true,\"ticks\":\"\",\"zerolinecolor\":\"white\",\"gridwidth\":2}},\"shapedefaults\":{\"line\":{\"color\":\"#2a3f5f\"}},\"annotationdefaults\":{\"arrowcolor\":\"#2a3f5f\",\"arrowhead\":0,\"arrowwidth\":1},\"geo\":{\"bgcolor\":\"white\",\"landcolor\":\"#E5ECF6\",\"subunitcolor\":\"white\",\"showland\":true,\"showlakes\":true,\"lakecolor\":\"white\"},\"title\":{\"x\":0.05},\"mapbox\":{\"style\":\"light\"}}},\"xaxis\":{\"anchor\":\"y\",\"domain\":[0.0,1.0],\"title\":{\"text\":\"x\"}},\"yaxis\":{\"anchor\":\"x\",\"domain\":[0.0,1.0],\"title\":{\"text\":\"y\"}},\"legend\":{\"tracegroupgap\":0},\"margin\":{\"t\":60}},                        {\"responsive\": true}                    ).then(function(){\n",
              "                            \n",
              "var gd = document.getElementById('951ea372-cb59-4df5-b8f3-951584e81d4e');\n",
              "var x = new MutationObserver(function (mutations, observer) {{\n",
              "        var display = window.getComputedStyle(gd).display;\n",
              "        if (!display || display === 'none') {{\n",
              "            console.log([gd, 'removed!']);\n",
              "            Plotly.purge(gd);\n",
              "            observer.disconnect();\n",
              "        }}\n",
              "}});\n",
              "\n",
              "// Listen for the removal of the full notebook cells\n",
              "var notebookContainer = gd.closest('#notebook-container');\n",
              "if (notebookContainer) {{\n",
              "    x.observe(notebookContainer, {childList: true});\n",
              "}}\n",
              "\n",
              "// Listen for the clearing of the current output cell\n",
              "var outputEl = gd.closest('.output');\n",
              "if (outputEl) {{\n",
              "    x.observe(outputEl, {childList: true});\n",
              "}}\n",
              "\n",
              "                        })                };                            </script>        </div>\n",
              "</body>\n",
              "</html>"
            ]
          },
          "metadata": {}
        }
      ],
      "source": [
        "import pandas as pd\n",
        "import plotly.express as px\n",
        "import plotly.graph_objects as go\n",
        "df=pd.read_csv(\"logistic_data.csv\")\n",
        "estimatedSalary_list=df[\"EstimatedSalary\"].tolist()\n",
        "purchased_list=df[\"Purchased\"].tolist()\n",
        "fig=px.scatter(x=estimatedSalary_list,y=purchased_list)\n",
        "fig.show()"
      ]
    },
    {
      "cell_type": "markdown",
      "source": [
        "We cannot predict on people's salary if they can buy an iphone or not.\n",
        "As we can see there are people having salary b/w 20k to 60k also buying an iphone.\n",
        "Also people with 80k to 140k also buying an iphone and some with high salary are also not buying an iphone.\n",
        "So for better prediction we will consider another variable. let's consider the age of the person along with salary."
      ],
      "metadata": {
        "id": "jDWq_Ofo3jim"
      }
    },
    {
      "cell_type": "code",
      "source": [
        "estimatedSalary_list=df[\"EstimatedSalary\"].tolist()\n",
        "purchased_list=df[\"Purchased\"].tolist()\n",
        "ages_list=df[\"Age\"].tolist()\n",
        "colors=[]\n",
        "for data in purchased_list:\n",
        "  if data==1:\n",
        "    colors.append(\"green\")\n",
        "  else:\n",
        "    colors.append(\"red\")\n",
        "fig=go.Figure(data=go.Scatter(\n",
        "    x=estimatedSalary_list,y=ages_list,mode='markers',\n",
        "    marker=dict(color=colors)\n",
        "  \n",
        "))\n",
        "fig.show()"
      ],
      "metadata": {
        "colab": {
          "base_uri": "https://localhost:8080/",
          "height": 542
        },
        "id": "lkQQQnIO4E1v",
        "outputId": "71e9b446-5e35-4299-a6c3-d56e48ead4d6"
      },
      "execution_count": 8,
      "outputs": [
        {
          "output_type": "display_data",
          "data": {
            "text/html": [
              "<html>\n",
              "<head><meta charset=\"utf-8\" /></head>\n",
              "<body>\n",
              "    <div>            <script src=\"https://cdnjs.cloudflare.com/ajax/libs/mathjax/2.7.5/MathJax.js?config=TeX-AMS-MML_SVG\"></script><script type=\"text/javascript\">if (window.MathJax && window.MathJax.Hub && window.MathJax.Hub.Config) {window.MathJax.Hub.Config({SVG: {font: \"STIX-Web\"}});}</script>                <script type=\"text/javascript\">window.PlotlyConfig = {MathJaxConfig: 'local'};</script>\n",
              "        <script src=\"https://cdn.plot.ly/plotly-2.18.2.min.js\"></script>                <div id=\"d31cef5b-0170-474a-99b2-2a3e2a46571b\" class=\"plotly-graph-div\" style=\"height:525px; width:100%;\"></div>            <script type=\"text/javascript\">                                    window.PLOTLYENV=window.PLOTLYENV || {};                                    if (document.getElementById(\"d31cef5b-0170-474a-99b2-2a3e2a46571b\")) {                    Plotly.newPlot(                        \"d31cef5b-0170-474a-99b2-2a3e2a46571b\",                        [{\"marker\":{\"color\":[\"red\",\"red\",\"red\",\"red\",\"red\",\"red\",\"red\",\"green\",\"red\",\"red\",\"red\",\"red\",\"red\",\"red\",\"red\",\"red\",\"green\",\"green\",\"green\",\"green\",\"green\",\"green\",\"green\",\"green\",\"green\",\"green\",\"green\",\"green\",\"red\",\"red\",\"red\",\"green\",\"red\",\"red\",\"red\",\"red\",\"red\",\"red\",\"red\",\"red\",\"red\",\"red\",\"red\",\"red\",\"red\",\"red\",\"red\",\"red\",\"green\",\"red\",\"red\",\"red\",\"red\",\"red\",\"red\",\"red\",\"red\",\"red\",\"red\",\"red\",\"red\",\"red\",\"red\",\"green\",\"red\",\"red\",\"red\",\"red\",\"red\",\"red\",\"red\",\"red\",\"red\",\"red\",\"red\",\"green\",\"red\",\"red\",\"red\",\"red\",\"red\",\"red\",\"red\",\"red\",\"red\",\"green\",\"red\",\"red\",\"red\",\"red\",\"red\",\"red\",\"red\",\"red\",\"red\",\"red\",\"red\",\"green\",\"red\",\"red\",\"red\",\"red\",\"red\",\"green\",\"red\",\"red\",\"red\",\"red\",\"red\",\"red\",\"red\",\"red\",\"red\",\"red\",\"red\",\"red\",\"red\",\"red\",\"red\",\"red\",\"red\",\"red\",\"red\",\"red\",\"red\",\"red\",\"red\",\"red\",\"red\",\"red\",\"red\",\"red\",\"red\",\"red\",\"red\",\"red\",\"red\",\"green\",\"red\",\"red\",\"red\",\"red\",\"red\",\"red\",\"red\",\"red\",\"green\",\"red\",\"red\",\"red\",\"red\",\"red\",\"red\",\"red\",\"red\",\"red\",\"red\",\"red\",\"red\",\"green\",\"green\",\"red\",\"red\",\"red\",\"red\",\"red\",\"red\",\"red\",\"green\",\"red\",\"red\",\"red\",\"red\",\"red\",\"red\",\"red\",\"red\",\"red\",\"red\",\"red\",\"red\",\"red\",\"green\",\"red\",\"red\",\"red\",\"red\",\"red\",\"red\",\"red\",\"red\",\"red\",\"red\",\"red\",\"red\",\"red\",\"red\",\"red\",\"red\",\"red\",\"red\",\"red\",\"green\",\"red\",\"green\",\"red\",\"green\",\"red\",\"green\",\"red\",\"green\",\"green\",\"red\",\"red\",\"red\",\"green\",\"red\",\"red\",\"red\",\"green\",\"red\",\"green\",\"green\",\"green\",\"red\",\"red\",\"green\",\"green\",\"red\",\"green\",\"green\",\"red\",\"green\",\"green\",\"red\",\"green\",\"red\",\"red\",\"red\",\"green\",\"green\",\"red\",\"green\",\"green\",\"red\",\"green\",\"red\",\"green\",\"red\",\"green\",\"red\",\"red\",\"green\",\"green\",\"red\",\"green\",\"red\",\"red\",\"green\",\"green\",\"red\",\"green\",\"green\",\"red\",\"green\",\"green\",\"red\",\"red\",\"green\",\"red\",\"red\",\"green\",\"green\",\"green\",\"green\",\"green\",\"red\",\"green\",\"green\",\"green\",\"green\",\"red\",\"green\",\"green\",\"red\",\"green\",\"red\",\"green\",\"red\",\"green\",\"green\",\"green\",\"green\",\"red\",\"red\",\"red\",\"green\",\"green\",\"red\",\"green\",\"green\",\"green\",\"green\",\"green\",\"red\",\"red\",\"red\",\"green\",\"green\",\"red\",\"red\",\"green\",\"red\",\"green\",\"red\",\"green\",\"green\",\"red\",\"green\",\"red\",\"green\",\"green\",\"red\",\"green\",\"green\",\"red\",\"red\",\"red\",\"green\",\"green\",\"red\",\"green\",\"red\",\"red\",\"green\",\"red\",\"green\",\"red\",\"red\",\"green\",\"green\",\"red\",\"red\",\"green\",\"green\",\"red\",\"green\",\"green\",\"red\",\"red\",\"green\",\"red\",\"green\",\"red\",\"green\",\"green\",\"green\",\"red\",\"green\",\"red\",\"green\",\"green\",\"green\",\"red\",\"green\",\"green\",\"green\",\"green\",\"red\",\"green\",\"green\",\"green\",\"red\",\"green\",\"red\",\"green\",\"red\",\"red\",\"green\",\"green\",\"red\",\"green\",\"green\",\"green\",\"green\",\"green\",\"green\",\"red\",\"green\",\"green\",\"green\",\"green\",\"green\",\"green\",\"red\",\"green\",\"green\",\"green\",\"red\",\"green\"]},\"mode\":\"markers\",\"x\":[19000,20000,43000,57000,76000,58000,84000,150000,33000,65000,80000,52000,86000,18000,82000,80000,25000,26000,28000,29000,22000,49000,41000,22000,23000,20000,28000,30000,43000,18000,74000,137000,16000,44000,90000,27000,28000,49000,72000,31000,17000,51000,108000,15000,84000,20000,79000,54000,135000,89000,32000,44000,83000,23000,58000,55000,48000,79000,18000,117000,20000,87000,66000,120000,83000,58000,19000,82000,63000,68000,80000,27000,23000,113000,18000,112000,52000,27000,87000,17000,80000,42000,49000,88000,62000,118000,55000,85000,81000,50000,81000,116000,15000,28000,83000,44000,25000,123000,73000,37000,88000,59000,86000,149000,21000,72000,35000,89000,86000,80000,71000,71000,61000,55000,80000,57000,75000,52000,59000,59000,75000,72000,75000,53000,51000,61000,65000,32000,17000,84000,58000,31000,87000,68000,55000,63000,82000,107000,59000,25000,85000,68000,59000,89000,25000,89000,96000,30000,61000,74000,15000,45000,76000,50000,47000,15000,59000,75000,30000,135000,100000,90000,33000,38000,69000,86000,55000,71000,148000,47000,88000,115000,118000,43000,72000,28000,47000,22000,23000,34000,16000,71000,117000,43000,60000,66000,82000,41000,72000,32000,84000,26000,43000,70000,89000,43000,79000,36000,80000,22000,39000,74000,134000,71000,101000,47000,130000,114000,142000,22000,96000,150000,42000,58000,43000,108000,65000,78000,96000,143000,80000,91000,144000,102000,60000,53000,126000,133000,72000,80000,147000,42000,107000,86000,112000,79000,57000,80000,82000,143000,149000,59000,88000,104000,72000,146000,50000,122000,52000,97000,39000,52000,134000,146000,44000,90000,72000,57000,95000,131000,77000,144000,125000,72000,90000,108000,75000,74000,144000,61000,133000,76000,42000,106000,26000,74000,71000,88000,38000,36000,88000,61000,70000,21000,141000,93000,62000,138000,79000,78000,134000,89000,39000,77000,57000,63000,73000,112000,79000,117000,38000,74000,137000,79000,60000,54000,134000,113000,125000,50000,70000,96000,50000,141000,79000,75000,104000,55000,32000,60000,138000,82000,52000,30000,131000,60000,72000,75000,118000,107000,51000,119000,65000,65000,60000,54000,144000,79000,55000,122000,104000,75000,65000,51000,105000,63000,72000,108000,77000,61000,113000,75000,90000,57000,99000,34000,70000,72000,71000,54000,129000,34000,50000,79000,104000,29000,47000,88000,71000,26000,46000,83000,73000,130000,80000,32000,74000,53000,87000,23000,64000,33000,139000,28000,33000,60000,39000,71000,34000,35000,33000,23000,45000,42000,59000,41000,23000,20000,33000,36000],\"y\":[19,35,26,27,19,27,27,32,25,35,26,26,20,32,18,29,47,45,46,48,45,47,48,45,46,47,49,47,29,31,31,27,21,28,27,35,33,30,26,27,27,33,35,30,28,23,25,27,30,31,24,18,29,35,27,24,23,28,22,32,27,25,23,32,59,24,24,23,22,31,25,24,20,33,32,34,18,22,28,26,30,39,20,35,30,31,24,28,26,35,22,30,26,29,29,35,35,28,35,28,27,28,32,33,19,21,26,27,26,38,39,37,38,37,42,40,35,36,40,41,36,37,40,35,41,39,42,26,30,26,31,33,30,21,28,23,20,30,28,19,19,18,35,30,34,24,27,41,29,20,26,41,31,36,40,31,46,29,26,32,32,25,37,35,33,18,22,35,29,29,21,34,26,34,34,23,35,25,24,31,26,31,32,33,33,31,20,33,35,28,24,19,29,19,28,34,30,20,26,35,35,49,39,41,58,47,55,52,40,46,48,52,59,35,47,60,49,40,46,59,41,35,37,60,35,37,36,56,40,42,35,39,40,49,38,46,40,37,46,53,42,38,50,56,41,51,35,57,41,35,44,37,48,37,50,52,41,40,58,45,35,36,55,35,48,42,40,37,47,40,43,59,60,39,57,57,38,49,52,50,59,35,37,52,48,37,37,48,41,37,39,49,55,37,35,36,42,43,45,46,58,48,37,37,40,42,51,47,36,38,42,39,38,49,39,39,54,35,45,36,52,53,41,48,48,41,41,42,36,47,38,48,42,40,57,36,58,35,38,39,53,35,38,47,47,41,53,54,39,38,38,37,42,37,36,60,54,41,40,42,43,53,47,42,42,59,58,46,38,54,60,60,39,59,37,46,46,42,41,58,42,48,44,49,57,56,49,39,47,48,48,47,45,60,39,46,51,50,36,49],\"type\":\"scatter\"}],                        {\"template\":{\"data\":{\"histogram2dcontour\":[{\"type\":\"histogram2dcontour\",\"colorbar\":{\"outlinewidth\":0,\"ticks\":\"\"},\"colorscale\":[[0.0,\"#0d0887\"],[0.1111111111111111,\"#46039f\"],[0.2222222222222222,\"#7201a8\"],[0.3333333333333333,\"#9c179e\"],[0.4444444444444444,\"#bd3786\"],[0.5555555555555556,\"#d8576b\"],[0.6666666666666666,\"#ed7953\"],[0.7777777777777778,\"#fb9f3a\"],[0.8888888888888888,\"#fdca26\"],[1.0,\"#f0f921\"]]}],\"choropleth\":[{\"type\":\"choropleth\",\"colorbar\":{\"outlinewidth\":0,\"ticks\":\"\"}}],\"histogram2d\":[{\"type\":\"histogram2d\",\"colorbar\":{\"outlinewidth\":0,\"ticks\":\"\"},\"colorscale\":[[0.0,\"#0d0887\"],[0.1111111111111111,\"#46039f\"],[0.2222222222222222,\"#7201a8\"],[0.3333333333333333,\"#9c179e\"],[0.4444444444444444,\"#bd3786\"],[0.5555555555555556,\"#d8576b\"],[0.6666666666666666,\"#ed7953\"],[0.7777777777777778,\"#fb9f3a\"],[0.8888888888888888,\"#fdca26\"],[1.0,\"#f0f921\"]]}],\"heatmap\":[{\"type\":\"heatmap\",\"colorbar\":{\"outlinewidth\":0,\"ticks\":\"\"},\"colorscale\":[[0.0,\"#0d0887\"],[0.1111111111111111,\"#46039f\"],[0.2222222222222222,\"#7201a8\"],[0.3333333333333333,\"#9c179e\"],[0.4444444444444444,\"#bd3786\"],[0.5555555555555556,\"#d8576b\"],[0.6666666666666666,\"#ed7953\"],[0.7777777777777778,\"#fb9f3a\"],[0.8888888888888888,\"#fdca26\"],[1.0,\"#f0f921\"]]}],\"heatmapgl\":[{\"type\":\"heatmapgl\",\"colorbar\":{\"outlinewidth\":0,\"ticks\":\"\"},\"colorscale\":[[0.0,\"#0d0887\"],[0.1111111111111111,\"#46039f\"],[0.2222222222222222,\"#7201a8\"],[0.3333333333333333,\"#9c179e\"],[0.4444444444444444,\"#bd3786\"],[0.5555555555555556,\"#d8576b\"],[0.6666666666666666,\"#ed7953\"],[0.7777777777777778,\"#fb9f3a\"],[0.8888888888888888,\"#fdca26\"],[1.0,\"#f0f921\"]]}],\"contourcarpet\":[{\"type\":\"contourcarpet\",\"colorbar\":{\"outlinewidth\":0,\"ticks\":\"\"}}],\"contour\":[{\"type\":\"contour\",\"colorbar\":{\"outlinewidth\":0,\"ticks\":\"\"},\"colorscale\":[[0.0,\"#0d0887\"],[0.1111111111111111,\"#46039f\"],[0.2222222222222222,\"#7201a8\"],[0.3333333333333333,\"#9c179e\"],[0.4444444444444444,\"#bd3786\"],[0.5555555555555556,\"#d8576b\"],[0.6666666666666666,\"#ed7953\"],[0.7777777777777778,\"#fb9f3a\"],[0.8888888888888888,\"#fdca26\"],[1.0,\"#f0f921\"]]}],\"surface\":[{\"type\":\"surface\",\"colorbar\":{\"outlinewidth\":0,\"ticks\":\"\"},\"colorscale\":[[0.0,\"#0d0887\"],[0.1111111111111111,\"#46039f\"],[0.2222222222222222,\"#7201a8\"],[0.3333333333333333,\"#9c179e\"],[0.4444444444444444,\"#bd3786\"],[0.5555555555555556,\"#d8576b\"],[0.6666666666666666,\"#ed7953\"],[0.7777777777777778,\"#fb9f3a\"],[0.8888888888888888,\"#fdca26\"],[1.0,\"#f0f921\"]]}],\"mesh3d\":[{\"type\":\"mesh3d\",\"colorbar\":{\"outlinewidth\":0,\"ticks\":\"\"}}],\"scatter\":[{\"fillpattern\":{\"fillmode\":\"overlay\",\"size\":10,\"solidity\":0.2},\"type\":\"scatter\"}],\"parcoords\":[{\"type\":\"parcoords\",\"line\":{\"colorbar\":{\"outlinewidth\":0,\"ticks\":\"\"}}}],\"scatterpolargl\":[{\"type\":\"scatterpolargl\",\"marker\":{\"colorbar\":{\"outlinewidth\":0,\"ticks\":\"\"}}}],\"bar\":[{\"error_x\":{\"color\":\"#2a3f5f\"},\"error_y\":{\"color\":\"#2a3f5f\"},\"marker\":{\"line\":{\"color\":\"#E5ECF6\",\"width\":0.5},\"pattern\":{\"fillmode\":\"overlay\",\"size\":10,\"solidity\":0.2}},\"type\":\"bar\"}],\"scattergeo\":[{\"type\":\"scattergeo\",\"marker\":{\"colorbar\":{\"outlinewidth\":0,\"ticks\":\"\"}}}],\"scatterpolar\":[{\"type\":\"scatterpolar\",\"marker\":{\"colorbar\":{\"outlinewidth\":0,\"ticks\":\"\"}}}],\"histogram\":[{\"marker\":{\"pattern\":{\"fillmode\":\"overlay\",\"size\":10,\"solidity\":0.2}},\"type\":\"histogram\"}],\"scattergl\":[{\"type\":\"scattergl\",\"marker\":{\"colorbar\":{\"outlinewidth\":0,\"ticks\":\"\"}}}],\"scatter3d\":[{\"type\":\"scatter3d\",\"line\":{\"colorbar\":{\"outlinewidth\":0,\"ticks\":\"\"}},\"marker\":{\"colorbar\":{\"outlinewidth\":0,\"ticks\":\"\"}}}],\"scattermapbox\":[{\"type\":\"scattermapbox\",\"marker\":{\"colorbar\":{\"outlinewidth\":0,\"ticks\":\"\"}}}],\"scatterternary\":[{\"type\":\"scatterternary\",\"marker\":{\"colorbar\":{\"outlinewidth\":0,\"ticks\":\"\"}}}],\"scattercarpet\":[{\"type\":\"scattercarpet\",\"marker\":{\"colorbar\":{\"outlinewidth\":0,\"ticks\":\"\"}}}],\"carpet\":[{\"aaxis\":{\"endlinecolor\":\"#2a3f5f\",\"gridcolor\":\"white\",\"linecolor\":\"white\",\"minorgridcolor\":\"white\",\"startlinecolor\":\"#2a3f5f\"},\"baxis\":{\"endlinecolor\":\"#2a3f5f\",\"gridcolor\":\"white\",\"linecolor\":\"white\",\"minorgridcolor\":\"white\",\"startlinecolor\":\"#2a3f5f\"},\"type\":\"carpet\"}],\"table\":[{\"cells\":{\"fill\":{\"color\":\"#EBF0F8\"},\"line\":{\"color\":\"white\"}},\"header\":{\"fill\":{\"color\":\"#C8D4E3\"},\"line\":{\"color\":\"white\"}},\"type\":\"table\"}],\"barpolar\":[{\"marker\":{\"line\":{\"color\":\"#E5ECF6\",\"width\":0.5},\"pattern\":{\"fillmode\":\"overlay\",\"size\":10,\"solidity\":0.2}},\"type\":\"barpolar\"}],\"pie\":[{\"automargin\":true,\"type\":\"pie\"}]},\"layout\":{\"autotypenumbers\":\"strict\",\"colorway\":[\"#636efa\",\"#EF553B\",\"#00cc96\",\"#ab63fa\",\"#FFA15A\",\"#19d3f3\",\"#FF6692\",\"#B6E880\",\"#FF97FF\",\"#FECB52\"],\"font\":{\"color\":\"#2a3f5f\"},\"hovermode\":\"closest\",\"hoverlabel\":{\"align\":\"left\"},\"paper_bgcolor\":\"white\",\"plot_bgcolor\":\"#E5ECF6\",\"polar\":{\"bgcolor\":\"#E5ECF6\",\"angularaxis\":{\"gridcolor\":\"white\",\"linecolor\":\"white\",\"ticks\":\"\"},\"radialaxis\":{\"gridcolor\":\"white\",\"linecolor\":\"white\",\"ticks\":\"\"}},\"ternary\":{\"bgcolor\":\"#E5ECF6\",\"aaxis\":{\"gridcolor\":\"white\",\"linecolor\":\"white\",\"ticks\":\"\"},\"baxis\":{\"gridcolor\":\"white\",\"linecolor\":\"white\",\"ticks\":\"\"},\"caxis\":{\"gridcolor\":\"white\",\"linecolor\":\"white\",\"ticks\":\"\"}},\"coloraxis\":{\"colorbar\":{\"outlinewidth\":0,\"ticks\":\"\"}},\"colorscale\":{\"sequential\":[[0.0,\"#0d0887\"],[0.1111111111111111,\"#46039f\"],[0.2222222222222222,\"#7201a8\"],[0.3333333333333333,\"#9c179e\"],[0.4444444444444444,\"#bd3786\"],[0.5555555555555556,\"#d8576b\"],[0.6666666666666666,\"#ed7953\"],[0.7777777777777778,\"#fb9f3a\"],[0.8888888888888888,\"#fdca26\"],[1.0,\"#f0f921\"]],\"sequentialminus\":[[0.0,\"#0d0887\"],[0.1111111111111111,\"#46039f\"],[0.2222222222222222,\"#7201a8\"],[0.3333333333333333,\"#9c179e\"],[0.4444444444444444,\"#bd3786\"],[0.5555555555555556,\"#d8576b\"],[0.6666666666666666,\"#ed7953\"],[0.7777777777777778,\"#fb9f3a\"],[0.8888888888888888,\"#fdca26\"],[1.0,\"#f0f921\"]],\"diverging\":[[0,\"#8e0152\"],[0.1,\"#c51b7d\"],[0.2,\"#de77ae\"],[0.3,\"#f1b6da\"],[0.4,\"#fde0ef\"],[0.5,\"#f7f7f7\"],[0.6,\"#e6f5d0\"],[0.7,\"#b8e186\"],[0.8,\"#7fbc41\"],[0.9,\"#4d9221\"],[1,\"#276419\"]]},\"xaxis\":{\"gridcolor\":\"white\",\"linecolor\":\"white\",\"ticks\":\"\",\"title\":{\"standoff\":15},\"zerolinecolor\":\"white\",\"automargin\":true,\"zerolinewidth\":2},\"yaxis\":{\"gridcolor\":\"white\",\"linecolor\":\"white\",\"ticks\":\"\",\"title\":{\"standoff\":15},\"zerolinecolor\":\"white\",\"automargin\":true,\"zerolinewidth\":2},\"scene\":{\"xaxis\":{\"backgroundcolor\":\"#E5ECF6\",\"gridcolor\":\"white\",\"linecolor\":\"white\",\"showbackground\":true,\"ticks\":\"\",\"zerolinecolor\":\"white\",\"gridwidth\":2},\"yaxis\":{\"backgroundcolor\":\"#E5ECF6\",\"gridcolor\":\"white\",\"linecolor\":\"white\",\"showbackground\":true,\"ticks\":\"\",\"zerolinecolor\":\"white\",\"gridwidth\":2},\"zaxis\":{\"backgroundcolor\":\"#E5ECF6\",\"gridcolor\":\"white\",\"linecolor\":\"white\",\"showbackground\":true,\"ticks\":\"\",\"zerolinecolor\":\"white\",\"gridwidth\":2}},\"shapedefaults\":{\"line\":{\"color\":\"#2a3f5f\"}},\"annotationdefaults\":{\"arrowcolor\":\"#2a3f5f\",\"arrowhead\":0,\"arrowwidth\":1},\"geo\":{\"bgcolor\":\"white\",\"landcolor\":\"#E5ECF6\",\"subunitcolor\":\"white\",\"showland\":true,\"showlakes\":true,\"lakecolor\":\"white\"},\"title\":{\"x\":0.05},\"mapbox\":{\"style\":\"light\"}}}},                        {\"responsive\": true}                    ).then(function(){\n",
              "                            \n",
              "var gd = document.getElementById('d31cef5b-0170-474a-99b2-2a3e2a46571b');\n",
              "var x = new MutationObserver(function (mutations, observer) {{\n",
              "        var display = window.getComputedStyle(gd).display;\n",
              "        if (!display || display === 'none') {{\n",
              "            console.log([gd, 'removed!']);\n",
              "            Plotly.purge(gd);\n",
              "            observer.disconnect();\n",
              "        }}\n",
              "}});\n",
              "\n",
              "// Listen for the removal of the full notebook cells\n",
              "var notebookContainer = gd.closest('#notebook-container');\n",
              "if (notebookContainer) {{\n",
              "    x.observe(notebookContainer, {childList: true});\n",
              "}}\n",
              "\n",
              "// Listen for the clearing of the current output cell\n",
              "var outputEl = gd.closest('.output');\n",
              "if (outputEl) {{\n",
              "    x.observe(outputEl, {childList: true});\n",
              "}}\n",
              "\n",
              "                        })                };                            </script>        </div>\n",
              "</body>\n",
              "</html>"
            ]
          },
          "metadata": {}
        }
      ]
    },
    {
      "cell_type": "markdown",
      "source": [
        "Red Dots => People who are not buying an iphone. Green Dots => People who are buying an iphone. We can see that people having salaries more than 90k and above than 25 are buying more iphone."
      ],
      "metadata": {
        "id": "45Elu0PT56GH"
      }
    },
    {
      "cell_type": "markdown",
      "source": [
        "We will be the machine learning library. Now using the machine learning libraries we'll build a model to predict if the person will buy a phone or not. To do that we'll divide the data into two parts . We'll use the first part to train this model to predict if person will buy the phone or not. And use the second part to test our model. Dividing the data and using a part of it to train the model on it and then using the other part of the data to test the model is a general practice used by data scientists."
      ],
      "metadata": {
        "id": "jJVSixSS6HJU"
      }
    },
    {
      "cell_type": "code",
      "source": [
        "#taking together age and salary of a person\n",
        "factors=df[[\"EstimatedSalary\",\"Age\"]]\n",
        "purchases=df[\"Purchased\"]"
      ],
      "metadata": {
        "id": "rwURt7737MxN"
      },
      "execution_count": 9,
      "outputs": []
    },
    {
      "cell_type": "markdown",
      "source": [
        "Out of the whole data we used 75% of the data for training the model and rest for testing and later we will find the accuracy of the model."
      ],
      "metadata": {
        "id": "KLFTqG0u7qhk"
      }
    },
    {
      "cell_type": "code",
      "source": [
        "# Let's start by splitting the data.\n",
        "from sklearn.model_selection import train_test_split\n",
        "salary_train, salary_test, purchase_train, purchase_test = train_test_split(factors, purchases, test_size = 0.25, random_state=0)"
      ],
      "metadata": {
        "id": "cD5DZwys73bE"
      },
      "execution_count": 10,
      "outputs": []
    },
    {
      "cell_type": "markdown",
      "source": [
        "An accuracy of 1 would have been perfectly accurate, 0.89 is an excellent accuracy. Let's try to predict if a user will buy the product or not, using this model. Now, we have divided our data successfully in 75% 25% ratios. If we look at the data, we are considering the age and the salary together. While the age of the person is in years, the salary might be in INR or Dollars. We have to make sure that they are using the same unit before we proceed further. For this, we are going to use sklearn's StandardScaler. This will compare values with each other, and determine a score for the values. Both the age and the salary of the person will be given a score in comparison to others. Let's see how our data changes after doing this.\n"
      ],
      "metadata": {
        "id": "JhH7ZTlU8zY-"
      }
    },
    {
      "cell_type": "code",
      "source": [
        "print(salary_train[0:10]) \n",
        "from sklearn.preprocessing import StandardScaler \n",
        "sc_x = StandardScaler()\n",
        "salary_train = sc_x.fit_transform(salary_train) \n",
        "salary_test = sc_x.transform(salary_test)\n",
        "print (salary_train[0:10])\n"
      ],
      "metadata": {
        "colab": {
          "base_uri": "https://localhost:8080/"
        },
        "id": "bsDJZCEd9OQH",
        "outputId": "64ea29fe-769d-4e64-f9aa-65212fc579df"
      },
      "execution_count": 11,
      "outputs": [
        {
          "output_type": "stream",
          "name": "stdout",
          "text": [
            "     EstimatedSalary  Age\n",
            "250            39000   44\n",
            "63            120000   32\n",
            "312            50000   38\n",
            "159           135000   32\n",
            "283            21000   52\n",
            "340           104000   53\n",
            "81             42000   39\n",
            "349            61000   38\n",
            "153            50000   36\n",
            "295            63000   36\n",
            "[[-0.88670699  0.58164944]\n",
            " [ 1.46173768 -0.60673761]\n",
            " [-0.5677824  -0.01254409]\n",
            " [ 1.89663484 -0.60673761]\n",
            " [-1.40858358  1.37390747]\n",
            " [ 0.99784738  1.47293972]\n",
            " [-0.79972756  0.08648817]\n",
            " [-0.24885782 -0.01254409]\n",
            " [-0.5677824  -0.21060859]\n",
            " [-0.19087153 -0.21060859]]\n"
          ]
        }
      ]
    },
    {
      "cell_type": "markdown",
      "source": [
        "The StandardScaler asume your data as normally distributed within each feature and will scale them such that the distribution will now centered around 0, with a standard deviation of 1. Both the age and salary of person are given point. Now, let's train a logistic regression model on the training data that we seperated out earlier. For this, we will use sklearn's pre-built class LogisticRegression."
      ],
      "metadata": {
        "id": "QJLjz0GA9nLc"
      }
    },
    {
      "cell_type": "code",
      "source": [
        "from sklearn.linear_model import LogisticRegression \n",
        "#Random state=0 means training data\n",
        "#Random state=1 means testing data \n",
        "classifier = LogisticRegression(random_state = 0)\n",
        "classifier.fit(salary_train, purchase_train)\n"
      ],
      "metadata": {
        "colab": {
          "base_uri": "https://localhost:8080/",
          "height": 74
        },
        "id": "XFXEAeN_98-c",
        "outputId": "1c63a3a7-ab14-4288-83ad-56ce49677e03"
      },
      "execution_count": 12,
      "outputs": [
        {
          "output_type": "execute_result",
          "data": {
            "text/plain": [
              "LogisticRegression(random_state=0)"
            ],
            "text/html": [
              "<style>#sk-container-id-1 {color: black;background-color: white;}#sk-container-id-1 pre{padding: 0;}#sk-container-id-1 div.sk-toggleable {background-color: white;}#sk-container-id-1 label.sk-toggleable__label {cursor: pointer;display: block;width: 100%;margin-bottom: 0;padding: 0.3em;box-sizing: border-box;text-align: center;}#sk-container-id-1 label.sk-toggleable__label-arrow:before {content: \"▸\";float: left;margin-right: 0.25em;color: #696969;}#sk-container-id-1 label.sk-toggleable__label-arrow:hover:before {color: black;}#sk-container-id-1 div.sk-estimator:hover label.sk-toggleable__label-arrow:before {color: black;}#sk-container-id-1 div.sk-toggleable__content {max-height: 0;max-width: 0;overflow: hidden;text-align: left;background-color: #f0f8ff;}#sk-container-id-1 div.sk-toggleable__content pre {margin: 0.2em;color: black;border-radius: 0.25em;background-color: #f0f8ff;}#sk-container-id-1 input.sk-toggleable__control:checked~div.sk-toggleable__content {max-height: 200px;max-width: 100%;overflow: auto;}#sk-container-id-1 input.sk-toggleable__control:checked~label.sk-toggleable__label-arrow:before {content: \"▾\";}#sk-container-id-1 div.sk-estimator input.sk-toggleable__control:checked~label.sk-toggleable__label {background-color: #d4ebff;}#sk-container-id-1 div.sk-label input.sk-toggleable__control:checked~label.sk-toggleable__label {background-color: #d4ebff;}#sk-container-id-1 input.sk-hidden--visually {border: 0;clip: rect(1px 1px 1px 1px);clip: rect(1px, 1px, 1px, 1px);height: 1px;margin: -1px;overflow: hidden;padding: 0;position: absolute;width: 1px;}#sk-container-id-1 div.sk-estimator {font-family: monospace;background-color: #f0f8ff;border: 1px dotted black;border-radius: 0.25em;box-sizing: border-box;margin-bottom: 0.5em;}#sk-container-id-1 div.sk-estimator:hover {background-color: #d4ebff;}#sk-container-id-1 div.sk-parallel-item::after {content: \"\";width: 100%;border-bottom: 1px solid gray;flex-grow: 1;}#sk-container-id-1 div.sk-label:hover label.sk-toggleable__label {background-color: #d4ebff;}#sk-container-id-1 div.sk-serial::before {content: \"\";position: absolute;border-left: 1px solid gray;box-sizing: border-box;top: 0;bottom: 0;left: 50%;z-index: 0;}#sk-container-id-1 div.sk-serial {display: flex;flex-direction: column;align-items: center;background-color: white;padding-right: 0.2em;padding-left: 0.2em;position: relative;}#sk-container-id-1 div.sk-item {position: relative;z-index: 1;}#sk-container-id-1 div.sk-parallel {display: flex;align-items: stretch;justify-content: center;background-color: white;position: relative;}#sk-container-id-1 div.sk-item::before, #sk-container-id-1 div.sk-parallel-item::before {content: \"\";position: absolute;border-left: 1px solid gray;box-sizing: border-box;top: 0;bottom: 0;left: 50%;z-index: -1;}#sk-container-id-1 div.sk-parallel-item {display: flex;flex-direction: column;z-index: 1;position: relative;background-color: white;}#sk-container-id-1 div.sk-parallel-item:first-child::after {align-self: flex-end;width: 50%;}#sk-container-id-1 div.sk-parallel-item:last-child::after {align-self: flex-start;width: 50%;}#sk-container-id-1 div.sk-parallel-item:only-child::after {width: 0;}#sk-container-id-1 div.sk-dashed-wrapped {border: 1px dashed gray;margin: 0 0.4em 0.5em 0.4em;box-sizing: border-box;padding-bottom: 0.4em;background-color: white;}#sk-container-id-1 div.sk-label label {font-family: monospace;font-weight: bold;display: inline-block;line-height: 1.2em;}#sk-container-id-1 div.sk-label-container {text-align: center;}#sk-container-id-1 div.sk-container {/* jupyter's `normalize.less` sets `[hidden] { display: none; }` but bootstrap.min.css set `[hidden] { display: none !important; }` so we also need the `!important` here to be able to override the default hidden behavior on the sphinx rendered scikit-learn.org. See: https://github.com/scikit-learn/scikit-learn/issues/21755 */display: inline-block !important;position: relative;}#sk-container-id-1 div.sk-text-repr-fallback {display: none;}</style><div id=\"sk-container-id-1\" class=\"sk-top-container\"><div class=\"sk-text-repr-fallback\"><pre>LogisticRegression(random_state=0)</pre><b>In a Jupyter environment, please rerun this cell to show the HTML representation or trust the notebook. <br />On GitHub, the HTML representation is unable to render, please try loading this page with nbviewer.org.</b></div><div class=\"sk-container\" hidden><div class=\"sk-item\"><div class=\"sk-estimator sk-toggleable\"><input class=\"sk-toggleable__control sk-hidden--visually\" id=\"sk-estimator-id-1\" type=\"checkbox\" checked><label for=\"sk-estimator-id-1\" class=\"sk-toggleable__label sk-toggleable__label-arrow\">LogisticRegression</label><div class=\"sk-toggleable__content\"><pre>LogisticRegression(random_state=0)</pre></div></div></div></div></div>"
            ]
          },
          "metadata": {},
          "execution_count": 12
        }
      ]
    },
    {
      "cell_type": "markdown",
      "source": [
        "Here, the random_state = 0 means that we are providing the model with the Training data. If the value would have been 1, it would mean that we are providing with the testing data. Now that our model for Logistic Regression is trained, it's time for us to test this model. Is it predicting values well? Let's find out."
      ],
      "metadata": {
        "id": "Mxnl5UZO-diM"
      }
    },
    {
      "cell_type": "code",
      "source": [
        "purchase_pred = classifier.predict(salary_test) \n",
        "from sklearn.metrics import accuracy_score\n",
        "print (\"Accuracy : \", accuracy_score(purchase_test, purchase_pred))\n"
      ],
      "metadata": {
        "colab": {
          "base_uri": "https://localhost:8080/"
        },
        "id": "zSEjcqNR-mIM",
        "outputId": "d90d9888-282e-4954-9f2c-a5353ab0f1d0"
      },
      "execution_count": 13,
      "outputs": [
        {
          "output_type": "stream",
          "name": "stdout",
          "text": [
            "Accuracy :  0.89\n"
          ]
        }
      ]
    },
    {
      "cell_type": "markdown",
      "source": [
        "An accuracy of 1 would have been perfectly accurate, 0.89 is an excellent accuracy. Let's try to predict if a user will buy the product or not, using this model.\n"
      ],
      "metadata": {
        "id": "_uTTJUfL_Xmq"
      }
    },
    {
      "cell_type": "code",
      "source": [
        "user_age = int(input(\"Enter age of the customer -> \")) \n",
        "user_salary = int(input(\"Enter the salary of the customer -> \")) \n",
        "user_test = sc_x.transform([[user_salary, user_age]]) \n",
        "user_purchase_pred = classifier.predict(user_test) \n",
        "if user_purchase_pred[0] == 1:\n",
        "   print(\"This customer may purchase the product!\")\n",
        "else:\n",
        "   print(\"This customer may not purchase the product!\")"
      ],
      "metadata": {
        "colab": {
          "base_uri": "https://localhost:8080/"
        },
        "id": "o00rltJf_eeA",
        "outputId": "047f12ba-de7b-4327-de59-f72810635b2d"
      },
      "execution_count": 15,
      "outputs": [
        {
          "output_type": "stream",
          "name": "stdout",
          "text": [
            "Enter age of the customer -> 19\n",
            "Enter the salary of the customer -> 20000\n",
            "This customer may not purchase the product!\n"
          ]
        },
        {
          "output_type": "stream",
          "name": "stderr",
          "text": [
            "/usr/local/lib/python3.10/dist-packages/sklearn/base.py:439: UserWarning:\n",
            "\n",
            "X does not have valid feature names, but StandardScaler was fitted with feature names\n",
            "\n"
          ]
        }
      ]
    }
  ]
}